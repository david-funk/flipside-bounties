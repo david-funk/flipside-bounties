{
 "cells": [
  {
   "cell_type": "markdown",
   "id": "19cac832",
   "metadata": {},
   "source": [
    "# Levana Flipside Analysis - \n",
    "## Questions\n",
    "### 1. Meteor Shower Participants\n",
    "For those who bought and participated in the Levana Meteor Shower, is there a relationship between their participation and their LUNATIC degen score?\n",
    "### 2. Free Square\n",
    "Provide any interesting insights on Levana. These will be judged by a council that includes other community members and the Flipside team! \n",
    "\n",
    "## Data\n",
    "### Meteor Shower Participants\n",
    "I used flipside crypto data platform to extract the participants in the levana meteor shower. Thanks to *massnomis.eth#7291* on flipside's discord for providing the smart contract address `terra1dax9mddsycvzkc429wwy494vhzhggw3d5594rt`. I found the wallets that sent UST by interacting with that address from 7-10 November.\n",
    "You can view the SQL code on my published [flipside crypto dashboard](https://app.flipsidecrypto.com/dashboard/levana-meteor-shower-OcjwUc).\n",
    "\n",
    "### LUNATIC degen score\n",
    "I downloaded the data from the [LUNAtic ranking dashboard](https://science.flipsidecrypto.com/lunatics/) making sure to select all the degen scores on the slider."
   ]
  },
  {
   "cell_type": "code",
   "execution_count": 1,
   "id": "41d0bd90",
   "metadata": {},
   "outputs": [],
   "source": [
    "%matplotlib inline\n",
    "import pandas as pd\n",
    "import seaborn as sns\n",
    "import numpy as np\n",
    "from sklearn.preprocessing import StandardScaler\n",
    "from sklearn.ensemble import RandomForestClassifier\n",
    "from sklearn.model_selection import GridSearchCV\n",
    "from sklearn.metrics import accuracy_score"
   ]
  },
  {
   "cell_type": "code",
   "execution_count": 2,
   "id": "800b8366",
   "metadata": {},
   "outputs": [],
   "source": [
    "# Load the data\n",
    "df = pd.read_csv('levana-donations.csv')\n",
    "df.columns = ['wallet', 'levana_interactions', 'levana_ust']\n",
    "df_degen = pd.read_csv('degen-scores.csv')\n",
    "df = df.merge(df_degen, how='inner', left_on='wallet', right_on='address')\n",
    "df = df.drop(columns = ['Unnamed: 0', 'address'])"
   ]
  },
  {
   "cell_type": "markdown",
   "id": "81bda6a1",
   "metadata": {},
   "source": [
    "## Statistics from meteor event"
   ]
  },
  {
   "cell_type": "code",
   "execution_count": 3,
   "id": "ff70b5b6",
   "metadata": {},
   "outputs": [
    {
     "name": "stdout",
     "output_type": "stream",
     "text": [
      "Number of wallets taking part: 6340\n"
     ]
    }
   ],
   "source": [
    "print(\"Number of wallets taking part:\", df.shape[0])"
   ]
  },
  {
   "cell_type": "code",
   "execution_count": 4,
   "id": "b69fb022",
   "metadata": {},
   "outputs": [
    {
     "name": "stdout",
     "output_type": "stream",
     "text": [
      "Number of interactions per wallet: 7.9\n"
     ]
    }
   ],
   "source": [
    "print(\"Number of interactions per wallet:\", round(df.levana_interactions.sum()/df.shape[0],1))"
   ]
  },
  {
   "cell_type": "markdown",
   "id": "0da0da76",
   "metadata": {},
   "source": [
    "To get all the dragons eggs you would have to interact 44 times, once per hour for 44 hours"
   ]
  },
  {
   "cell_type": "code",
   "execution_count": 5,
   "id": "e5d3419f",
   "metadata": {},
   "outputs": [
    {
     "name": "stdout",
     "output_type": "stream",
     "text": [
      "Percent of wallets interacting only once: 25.6 %\n"
     ]
    }
   ],
   "source": [
    "print(\"Percent of wallets interacting only once:\", round(df[df.levana_interactions==1].shape[0]/df.shape[0]*100,1), \"%\")"
   ]
  },
  {
   "cell_type": "code",
   "execution_count": 6,
   "id": "c3447e6b",
   "metadata": {},
   "outputs": [
    {
     "name": "stdout",
     "output_type": "stream",
     "text": [
      "Total raised: 3.98 Million UST\n"
     ]
    }
   ],
   "source": [
    "print(\"Total raised:\", round(df.levana_ust.sum()/1e6,2), \"Million UST\")"
   ]
  },
  {
   "cell_type": "code",
   "execution_count": 7,
   "id": "6b6a0092",
   "metadata": {},
   "outputs": [
    {
     "name": "stdout",
     "output_type": "stream",
     "text": [
      "Average UST given: 627.88\n"
     ]
    }
   ],
   "source": [
    "print(\"Average UST given:\", round(df.levana_ust.mean(),2))"
   ]
  },
  {
   "cell_type": "markdown",
   "id": "e6e3c152",
   "metadata": {},
   "source": [
    "A few very large contributes skew the average."
   ]
  },
  {
   "cell_type": "code",
   "execution_count": 8,
   "id": "6b372e40",
   "metadata": {},
   "outputs": [
    {
     "name": "stdout",
     "output_type": "stream",
     "text": [
      "Median UST given: 100.0\n"
     ]
    }
   ],
   "source": [
    "print(\"Median UST given:\", round(df.levana_ust.median(),2))"
   ]
  },
  {
   "cell_type": "code",
   "execution_count": 9,
   "id": "eefcab0c",
   "metadata": {},
   "outputs": [
    {
     "name": "stdout",
     "output_type": "stream",
     "text": [
      "Top 90 % of wallets spent 8.0 UST or more\n",
      "Top 80 % of wallets spent 19.0 UST or more\n",
      "Top 70 % of wallets spent 36.0 UST or more\n",
      "Top 60 % of wallets spent 60.0 UST or more\n",
      "Top 50 % of wallets spent 100.0 UST or more\n",
      "Top 40 % of wallets spent 173.0 UST or more\n",
      "Top 30 % of wallets spent 264.3 UST or more\n",
      "Top 20 % of wallets spent 455.0 UST or more\n",
      "Top 10 % of wallets spent 1066.66 UST or more\n"
     ]
    }
   ],
   "source": [
    "# Percentiles\n",
    "percentiles = np.arange(10,100, step=10)\n",
    "res = np.percentile(df.levana_ust, percentiles)\n",
    "for ix, value in enumerate(percentiles):\n",
    "    print(\"Top\", 100-value, \"%\", \"of wallets spent\", round(res[ix],2), \"UST or more\")"
   ]
  },
  {
   "cell_type": "markdown",
   "id": "0451613a",
   "metadata": {},
   "source": [
    "### Distribution plot of amount spent per wallet\n",
    "A log scale has to be used to visualise the data. The majority give the minimum of \\\\$8. Then there is a second peak who give around \\\\$250. Then there is a long tail with donations going up to 10's of thousands"
   ]
  },
  {
   "cell_type": "code",
   "execution_count": 10,
   "id": "d26952f8",
   "metadata": {},
   "outputs": [
    {
     "data": {
      "image/png": "[encoded data removed]",
      "text/plain": [
       "<Figure size 432x288 with 1 Axes>"
      ]
     },
     "metadata": {
      "needs_background": "light"
     },
     "output_type": "display_data"
    }
   ],
   "source": [
    "plt = sns.kdeplot(data=df, x='levana_ust', log_scale=True)\n",
    "plt = plt.set(xlabel = \"UST spent during meteor shower\")\n",
    "# plt.xlabel = \"UST given during meteor shower\"\n",
    "# plt.show()"
   ]
  },
  {
   "cell_type": "markdown",
   "id": "e9289538",
   "metadata": {},
   "source": [
    "## Correlation with Crypto degen score\n",
    "Plot the degen score vs the amount spent in the meteor shower event"
   ]
  },
  {
   "cell_type": "code",
   "execution_count": 11,
   "id": "dbd851a8",
   "metadata": {},
   "outputs": [
    {
     "data": {
      "text/plain": [
       "<AxesSubplot:xlabel='Degen Score', ylabel='Average UST Spent'>"
      ]
     },
     "execution_count": 11,
     "metadata": {},
     "output_type": "execute_result"
    },
    {
     "data": {
      "image/png": "[encoded data removed]",
      "text/plain": [
       "<Figure size 432x288 with 1 Axes>"
      ]
     },
     "metadata": {
      "needs_background": "light"
     },
     "output_type": "display_data"
    }
   ],
   "source": [
    "df.groupby(\"Total Score\")['levana_ust'].agg(\"mean\").sort_index().plot(xlabel=\"Degen Score\", ylabel=\"Average UST Spent\")"
   ]
  },
  {
   "cell_type": "markdown",
   "id": "30aa67af",
   "metadata": {},
   "source": [
    "The graph shows that on average users with a higher degen score spent more money."
   ]
  },
  {
   "cell_type": "code",
   "execution_count": 12,
   "id": "e2f8535c",
   "metadata": {},
   "outputs": [
    {
     "name": "stdout",
     "output_type": "stream",
     "text": [
      "Correlation Coefficient: 0.059\n"
     ]
    }
   ],
   "source": [
    "# What is the correlation score?\n",
    "c = round(np.corrcoef(df.levana_ust, df[\"Total Score\"])[0,1],3)\n",
    "print(\"Correlation Coefficient:\", c)"
   ]
  },
  {
   "cell_type": "markdown",
   "id": "45f63c75",
   "metadata": {},
   "source": [
    "Correlation coefficient also supports there is a correlation between Degen Score and UST spent. The correlation is quite weak. 0 is no correlation and 1 is complete identical correlation. The outliers who spent a lot of money are probably the cause of causing the low correlation coefficient (as well as the degen score being integer values as opposed to a continous scale)"
   ]
  },
  {
   "cell_type": "markdown",
   "id": "c87aaaf4",
   "metadata": {},
   "source": [
    "### Use machine learning to drill down further\n",
    "The degen score is made up of a number of features such as number of airdrops claimed, number of DEX trades... Which of these individual features are most helpful in identifying a user that will invest a significant amount during the meteor shower. The results could be useful for planning future events.\n",
    "\n",
    "I consider a signifcant amoutn as $500 which accounts for the top 20% of wallets. The model used is random forests and the imprtance features will be used. \n",
    "\n"
   ]
  },
  {
   "cell_type": "code",
   "execution_count": 13,
   "id": "a7628839",
   "metadata": {},
   "outputs": [
    {
     "name": "stdout",
     "output_type": "stream",
     "text": [
      " Spent over $500  Average Degen Score\n",
      "           False                15.89\n",
      "            True                17.71\n"
     ]
    }
   ],
   "source": [
    "df[\"Spent over $500\"] = df[\"levana_ust\"] > 500\n",
    "res = df.groupby(\"Spent over $500\", as_index=False)[\"Total Score\"].agg(\"mean\")\n",
    "res.rename(columns={\"Total Score\": \"Average Degen Score\"}, inplace=True)\n",
    "\n",
    "print(res.round(2).to_string(index=False))"
   ]
  },
  {
   "cell_type": "code",
   "execution_count": 14,
   "id": "0d26813f",
   "metadata": {},
   "outputs": [
    {
     "name": "stdout",
     "output_type": "stream",
     "text": [
      "List of the features:\n",
      "--------------\n",
      "n_governance_votes\n",
      "n_airdrop_and_gov_stakes\n",
      "n_projects_staked\n",
      "n_airdrops_claimed\n",
      "n_protocols_claimed\n",
      "repeat_protocol_claims\n",
      "n_dex_trades\n",
      "n_tokens_used\n",
      "n_lp_deposits\n",
      "n_transactions\n",
      "days_since_last_txn\n",
      "n_contracts\n",
      "net_from_shuttle_cex\n",
      "prop_luna_staked\n",
      "prop_drops_kept\n"
     ]
    }
   ],
   "source": [
    "# Prepare and List the features\n",
    "y = df[\"Spent over $500\"].astype(int)\n",
    "X = df[[\"n_governance_votes\", \"n_airdrop_and_gov_stakes\", \"n_projects_staked\", \"n_airdrops_claimed\",\n",
    "       \"n_protocols_claimed\", \"repeat_protocol_claims\", \"n_dex_trades\", \"n_tokens_used\", \"n_lp_deposits\",\n",
    "       \"n_transactions\", \"days_since_last_txn\", \"n_contracts\", \"net_from_shuttle_cex\", \"prop_luna_staked\",\n",
    "       \"prop_drops_kept\"]]\n",
    "features = X.columns.values\n",
    "print(\"List of the features:\")\n",
    "print(\"--------------\")\n",
    "for f in features:\n",
    "    print(f)"
   ]
  },
  {
   "cell_type": "code",
   "execution_count": 15,
   "id": "69cf904d",
   "metadata": {},
   "outputs": [
    {
     "data": {
      "text/plain": [
       "GridSearchCV(estimator=RandomForestClassifier(n_jobs=-1, random_state=12345),\n",
       "             param_grid={'criterion': ['gini', 'entropy'],\n",
       "                         'max_depth': [13, 14, 15], 'max_features': [3, 4, 5]},\n",
       "             scoring='f1')"
      ]
     },
     "execution_count": 15,
     "metadata": {},
     "output_type": "execute_result"
    }
   ],
   "source": [
    "X = StandardScaler().fit_transform(X)\n",
    "rf = RandomForestClassifier(n_jobs=-1, random_state=12345)\n",
    "# Do a smallish grid search\n",
    "parameters = {\n",
    "    \"criterion\": [\"gini\", \"entropy\"],\n",
    "    \"max_depth\": [13,14,15],\n",
    "    \"max_features\": [3,4,5],\n",
    "}\n",
    "clf = GridSearchCV(rf, parameters, scoring='f1')\n",
    "# Train the model. Takes a couple of minutes\n",
    "clf.fit(X, y)"
   ]
  },
  {
   "cell_type": "code",
   "execution_count": 16,
   "id": "0fc62f32",
   "metadata": {},
   "outputs": [
    {
     "data": {
      "text/plain": [
       "{'criterion': 'entropy', 'max_depth': 14, 'max_features': 4}"
      ]
     },
     "execution_count": 16,
     "metadata": {},
     "output_type": "execute_result"
    }
   ],
   "source": [
    "# The best parameters chosen\n",
    "clf.best_params_"
   ]
  },
  {
   "cell_type": "code",
   "execution_count": 17,
   "id": "426f4b72",
   "metadata": {},
   "outputs": [
    {
     "data": {
      "text/plain": [
       "0.035343836187633246"
      ]
     },
     "execution_count": 17,
     "metadata": {},
     "output_type": "execute_result"
    }
   ],
   "source": [
    "# F1 score of the model\n",
    "clf.best_score_"
   ]
  },
  {
   "cell_type": "code",
   "execution_count": 18,
   "id": "bd73fe00",
   "metadata": {},
   "outputs": [
    {
     "name": "stdout",
     "output_type": "stream",
     "text": [
      "Model accuracy is: 82.2 %\n"
     ]
    }
   ],
   "source": [
    "# Accuracy of the model. Its an easier metric to understand\n",
    "model = clf.best_estimator_\n",
    "predictions = model.predict(X)\n",
    "accuracy = accuracy_score(y, predictions)\n",
    "print(\"Model accuracy is:\", round(accuracy*100,1), \"%\")"
   ]
  },
  {
   "cell_type": "markdown",
   "id": "7bd4f365",
   "metadata": {},
   "source": [
    "### Insights from the model\n",
    "Start by listing the features in order of how important they are in predicting if a user spent over $500. A higher importance means it is more useful to the model for prediction"
   ]
  },
  {
   "cell_type": "code",
   "execution_count": 19,
   "id": "001f8847",
   "metadata": {},
   "outputs": [
    {
     "data": {
      "text/html": [
       "<div>\n",
       "<style scoped>\n",
       "    .dataframe tbody tr th:only-of-type {\n",
       "        vertical-align: middle;\n",
       "    }\n",
       "\n",
       "    .dataframe tbody tr th {\n",
       "        vertical-align: top;\n",
       "    }\n",
       "\n",
       "    .dataframe thead th {\n",
       "        text-align: right;\n",
       "    }\n",
       "</style>\n",
       "<table border=\"1\" class=\"dataframe\">\n",
       "  <thead>\n",
       "    <tr style=\"text-align: right;\">\n",
       "      <th></th>\n",
       "      <th>feature</th>\n",
       "      <th>importance</th>\n",
       "    </tr>\n",
       "  </thead>\n",
       "  <tbody>\n",
       "    <tr>\n",
       "      <th>0</th>\n",
       "      <td>prop_luna_staked</td>\n",
       "      <td>11.506207</td>\n",
       "    </tr>\n",
       "    <tr>\n",
       "      <th>1</th>\n",
       "      <td>net_from_shuttle_cex</td>\n",
       "      <td>10.609645</td>\n",
       "    </tr>\n",
       "    <tr>\n",
       "      <th>2</th>\n",
       "      <td>n_governance_votes</td>\n",
       "      <td>9.845951</td>\n",
       "    </tr>\n",
       "    <tr>\n",
       "      <th>3</th>\n",
       "      <td>prop_drops_kept</td>\n",
       "      <td>9.726060</td>\n",
       "    </tr>\n",
       "    <tr>\n",
       "      <th>4</th>\n",
       "      <td>n_projects_staked</td>\n",
       "      <td>9.340599</td>\n",
       "    </tr>\n",
       "    <tr>\n",
       "      <th>5</th>\n",
       "      <td>n_lp_deposits</td>\n",
       "      <td>9.081855</td>\n",
       "    </tr>\n",
       "    <tr>\n",
       "      <th>6</th>\n",
       "      <td>n_transactions</td>\n",
       "      <td>8.564296</td>\n",
       "    </tr>\n",
       "    <tr>\n",
       "      <th>7</th>\n",
       "      <td>n_airdrop_and_gov_stakes</td>\n",
       "      <td>6.208521</td>\n",
       "    </tr>\n",
       "    <tr>\n",
       "      <th>8</th>\n",
       "      <td>repeat_protocol_claims</td>\n",
       "      <td>5.771841</td>\n",
       "    </tr>\n",
       "    <tr>\n",
       "      <th>9</th>\n",
       "      <td>n_protocols_claimed</td>\n",
       "      <td>5.364100</td>\n",
       "    </tr>\n",
       "    <tr>\n",
       "      <th>10</th>\n",
       "      <td>n_contracts</td>\n",
       "      <td>5.294057</td>\n",
       "    </tr>\n",
       "    <tr>\n",
       "      <th>11</th>\n",
       "      <td>n_tokens_used</td>\n",
       "      <td>3.348524</td>\n",
       "    </tr>\n",
       "    <tr>\n",
       "      <th>12</th>\n",
       "      <td>n_dex_trades</td>\n",
       "      <td>2.716520</td>\n",
       "    </tr>\n",
       "    <tr>\n",
       "      <th>13</th>\n",
       "      <td>n_airdrops_claimed</td>\n",
       "      <td>2.621825</td>\n",
       "    </tr>\n",
       "    <tr>\n",
       "      <th>14</th>\n",
       "      <td>days_since_last_txn</td>\n",
       "      <td>0.000000</td>\n",
       "    </tr>\n",
       "  </tbody>\n",
       "</table>\n",
       "</div>"
      ],
      "text/plain": [
       "                     feature  importance\n",
       "0           prop_luna_staked   11.506207\n",
       "1       net_from_shuttle_cex   10.609645\n",
       "2         n_governance_votes    9.845951\n",
       "3            prop_drops_kept    9.726060\n",
       "4          n_projects_staked    9.340599\n",
       "5              n_lp_deposits    9.081855\n",
       "6             n_transactions    8.564296\n",
       "7   n_airdrop_and_gov_stakes    6.208521\n",
       "8     repeat_protocol_claims    5.771841\n",
       "9        n_protocols_claimed    5.364100\n",
       "10               n_contracts    5.294057\n",
       "11             n_tokens_used    3.348524\n",
       "12              n_dex_trades    2.716520\n",
       "13        n_airdrops_claimed    2.621825\n",
       "14       days_since_last_txn    0.000000"
      ]
     },
     "execution_count": 19,
     "metadata": {},
     "output_type": "execute_result"
    }
   ],
   "source": [
    "importances = pd.DataFrame({\n",
    "    \"feature\": features,\n",
    "    \"importance\": model.feature_importances_,})\n",
    "importances = importances.sort_values(\"importance\", ascending=False)\n",
    "importances[\"importance\"] = importances[\"importance\"]/importances[\"importance\"].sum()*100\n",
    "importances = importances.reset_index(drop=True)\n",
    "importances"
   ]
  },
  {
   "cell_type": "markdown",
   "id": "54edca7a",
   "metadata": {},
   "source": [
    "There is no major stand-out feature driving the model. (Note these features were extracted after the meteor shower. If there was time we would go back and edit the corresponging flipside SQL  to take a snapshot before the meteor shower). The meaning of these features are explained at the bottom of the [LUNATIC degen dashboard](https://science.flipsidecrypto.com/lunatics/)\n",
    "\n",
    "Lets investiage the top two important features to get an idea of the insights the model picked up."
   ]
  },
  {
   "cell_type": "markdown",
   "id": "58bdd783",
   "metadata": {},
   "source": [
    "The feature `prop_luna_staked` refers to the wallet having 75% or more luna currently staked. It gives a score of 2 if true."
   ]
  },
  {
   "cell_type": "code",
   "execution_count": 20,
   "id": "27fbfa01",
   "metadata": {},
   "outputs": [
    {
     "name": "stdout",
     "output_type": "stream",
     "text": [
      " 75% of LUNA is staked  Spent over $500\n",
      "                 False             0.19\n",
      "                  True             0.18\n"
     ]
    }
   ],
   "source": [
    "df[\"75% of LUNA is staked\"] = df[\"prop_luna_staked\"] == 2\n",
    "res = df.groupby(\"75% of LUNA is staked\", as_index=False)[\"Spent over $500\"].agg(\"mean\")\n",
    "print(res.round(2).to_string(index=False))"
   ]
  },
  {
   "cell_type": "markdown",
   "id": "82f4647f",
   "metadata": {},
   "source": [
    "People spending more than $500 on the meteor show are slightly less likely to have 75% or more of their LUNA staked"
   ]
  },
  {
   "cell_type": "markdown",
   "id": "473cce9e",
   "metadata": {},
   "source": [
    "The feature `net_from_shuttle_cex` is 1 if the wallet has recieved more from Bridges and CEX's than they have sent"
   ]
  },
  {
   "cell_type": "code",
   "execution_count": 21,
   "id": "a4318397",
   "metadata": {},
   "outputs": [
    {
     "name": "stdout",
     "output_type": "stream",
     "text": [
      " net_from_shuttle_cex  Spent over $500\n",
      "                    0             0.24\n",
      "                    1             0.17\n"
     ]
    }
   ],
   "source": [
    "res = df.groupby(\"net_from_shuttle_cex\", as_index=False)[\"Spent over $500\"].agg(\"mean\")\n",
    "print(res.round(2).to_string(index=False))"
   ]
  },
  {
   "cell_type": "markdown",
   "id": "a99230fd",
   "metadata": {},
   "source": [
    "Those spending more than $500 on the meteor shower are more likely to be sending money off the Terra chain in the last 90 days"
   ]
  }
 ],
 "metadata": {
  "kernelspec": {
   "display_name": "Python 3 (ipykernel)",
   "language": "python",
   "name": "python3"
  },
  "language_info": {
   "codemirror_mode": {
    "name": "ipython",
    "version": 3
   },
   "file_extension": ".py",
   "mimetype": "text/x-python",
   "name": "python",
   "nbconvert_exporter": "python",
   "pygments_lexer": "ipython3",
   "version": "3.8.12"
  }
 },
 "nbformat": 4,
 "nbformat_minor": 5
}
